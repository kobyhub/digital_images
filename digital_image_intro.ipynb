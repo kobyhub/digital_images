{
 "cells": [
  {
   "cell_type": "markdown",
   "metadata": {},
   "source": [
    "# welcome to digital imaging"
   ]
  },
  {
   "cell_type": "code",
   "execution_count": null,
   "metadata": {},
   "outputs": [],
   "source": [
    "# this line is an instruction to jupyter to connect the plots to the GUI\n",
    "%matplotlib inline"
   ]
  },
  {
   "cell_type": "code",
   "execution_count": null,
   "metadata": {},
   "outputs": [],
   "source": [
    "#What is this?\n",
    "\n",
    "img1 = [[[0,0,0]]] "
   ]
  },
  {
   "cell_type": "code",
   "execution_count": null,
   "metadata": {},
   "outputs": [],
   "source": [
    "img1"
   ]
  },
  {
   "cell_type": "code",
   "execution_count": null,
   "metadata": {},
   "outputs": [],
   "source": [
    "# plot img1\n",
    "\n",
    "import matplotlib.pyplot as plotlib # The plot image library\n",
    "plotlib.imshow(img1)"
   ]
  },
  {
   "cell_type": "code",
   "execution_count": null,
   "metadata": {},
   "outputs": [],
   "source": [
    "#What is this?\n",
    "\n",
    "img2 = [[[255,0,0]]]\n",
    "img3 = [[[0,255,0]]] \n",
    "img4 = [[[0,0,255]]] "
   ]
  },
  {
   "cell_type": "code",
   "execution_count": null,
   "metadata": {},
   "outputs": [],
   "source": [
    "# plot img2\n",
    "\n",
    "plotlib.imshow(img2)"
   ]
  },
  {
   "cell_type": "code",
   "execution_count": null,
   "metadata": {},
   "outputs": [],
   "source": [
    "# plot img3\n",
    "\n",
    "plotlib.imshow(img3)"
   ]
  },
  {
   "cell_type": "code",
   "execution_count": null,
   "metadata": {},
   "outputs": [],
   "source": [
    "# plot img4\n",
    "\n",
    "plotlib.imshow(img4)"
   ]
  },
  {
   "cell_type": "code",
   "execution_count": null,
   "metadata": {},
   "outputs": [],
   "source": [
    "#What is this?\n",
    "\n",
    "img5=[[[0,0,0],[0,0,0]],[[0,0,0],[255,255,255]]]\n",
    "plotlib.imshow(img5)"
   ]
  },
  {
   "cell_type": "code",
   "execution_count": null,
   "metadata": {},
   "outputs": [],
   "source": [
    "#What is this?\n",
    "\n",
    "img6=[[[0,0,0],[128,128,128]],[[128,128,128],[255,255,255]]]\n",
    "plotlib.imshow(img6)"
   ]
  },
  {
   "cell_type": "code",
   "execution_count": null,
   "metadata": {},
   "outputs": [],
   "source": [
    "#What is this?\n",
    "\n",
    "img7=[[[255,0,0],[0,255,0]],[[0,0,255],[255,255,255]]]\n",
    "plotlib.imshow(img7)"
   ]
  },
  {
   "cell_type": "code",
   "execution_count": null,
   "metadata": {
    "scrolled": true
   },
   "outputs": [],
   "source": [
    "# load and plot an image\n",
    "\n",
    "import matplotlib.image as imglib # The image library \n",
    "img8 = imglib.imread('panda.jpg')\n",
    "plotlib.imshow(img8)"
   ]
  },
  {
   "cell_type": "code",
   "execution_count": null,
   "metadata": {},
   "outputs": [],
   "source": [
    "# image size\n",
    "\n",
    "img8.shape"
   ]
  },
  {
   "cell_type": "code",
   "execution_count": null,
   "metadata": {},
   "outputs": [],
   "source": [
    "# what is this?\n",
    "img9 = img8.copy()\n",
    "\n",
    "img9[0:110,0:115]=[0,0,0];\n",
    "\n",
    "plotlib.imshow(img9)"
   ]
  },
  {
   "cell_type": "code",
   "execution_count": null,
   "metadata": {},
   "outputs": [],
   "source": [
    "# what is this?\n",
    "img10 = img8.copy()\n",
    "\n",
    "img10[0:110,0:115,2]=255;\n",
    "\n",
    "plotlib.imshow(img10)"
   ]
  },
  {
   "cell_type": "code",
   "execution_count": null,
   "metadata": {},
   "outputs": [],
   "source": [
    "# what is this?\n",
    "img11 = img8.copy()\n",
    "\n",
    "for x in range(110):\n",
    "    for y in range(115):\n",
    "        if img11[x,y,0] > 128:\n",
    "            img11[x,y] = [0,255,0]\n",
    "\n",
    "plotlib.imshow(img11)"
   ]
  },
  {
   "cell_type": "code",
   "execution_count": null,
   "metadata": {},
   "outputs": [],
   "source": []
  },
  {
   "cell_type": "code",
   "execution_count": null,
   "metadata": {},
   "outputs": [],
   "source": []
  }
 ],
 "metadata": {
  "kernelspec": {
   "display_name": "Python 3",
   "language": "python",
   "name": "python3"
  },
  "language_info": {
   "codemirror_mode": {
    "name": "ipython",
    "version": 3
   },
   "file_extension": ".py",
   "mimetype": "text/x-python",
   "name": "python",
   "nbconvert_exporter": "python",
   "pygments_lexer": "ipython3",
   "version": "3.6.5"
  }
 },
 "nbformat": 4,
 "nbformat_minor": 2
}
